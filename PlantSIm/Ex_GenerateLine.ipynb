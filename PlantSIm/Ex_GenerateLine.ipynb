{
 "cells": [
  {
   "cell_type": "code",
   "execution_count": null,
   "metadata": {},
   "outputs": [],
   "source": [
    "#Call Exel file to DataFrame\n",
    "import pandas as pd\n",
    "df = pd.read_excel('../Layout_Data_GA.xlsx')\n",
    "\n",
    "#Source\n",
    "AMOUNT   = -1 #set Source will generate INFINITY\n",
    "INTERVAL = 2  #cycletime(sec) about Source\n",
    "\n",
    "#Conveyor\n",
    "LENGTH  = 2 #default conveyor length\n",
    "SPEED   = 1 #default conveyor speed\n",
    "\n",
    "#Call DEVS Class\n",
    "from GenerateLine import DEVS\n",
    "devs = DEVS(AMOUNT,INTERVAL,LENGTH,SPEED)\n",
    "\n",
    "#Make Model\n",
    "model = devs.getModel(df)\n",
    "\n",
    "#Run Simulator\n",
    "devs.simulate(model=model, settime=600, setVerbose=True)\n"
   ]
  }
 ],
 "metadata": {
  "kernelspec": {
   "display_name": "DEVS",
   "language": "python",
   "name": "python3"
  },
  "language_info": {
   "codemirror_mode": {
    "name": "ipython",
    "version": 3
   },
   "file_extension": ".py",
   "mimetype": "text/x-python",
   "name": "python",
   "nbconvert_exporter": "python",
   "pygments_lexer": "ipython3",
   "version": "3.11.9"
  }
 },
 "nbformat": 4,
 "nbformat_minor": 2
}
