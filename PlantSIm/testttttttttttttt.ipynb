{
 "cells": [
  {
   "cell_type": "code",
   "execution_count": null,
   "metadata": {},
   "outputs": [],
   "source": [
    "import pandas as pd\n",
    "df = pd.read_excel('../Layout_Data_GA.xlsx')\n",
    "\n",
    "from GenerateLine import *\n",
    "\n",
    "dp = Data_preprocessing()\n",
    "model = dp.getModel(df)\n",
    "\n",
    "dp.simulate(model)\n"
   ]
  },
  {
   "cell_type": "code",
   "execution_count": null,
   "metadata": {},
   "outputs": [],
   "source": [
    "print(int(5/2))"
   ]
  },
  {
   "cell_type": "code",
   "execution_count": null,
   "metadata": {},
   "outputs": [],
   "source": [
    "from pypdevs.DEVS import *\n",
    "from pypdevs.infinity import INFINITY\n",
    "from pypdevs.simulator import Simulator\n",
    "\n",
    "from GenerateCell import *\n",
    "\n",
    "class Test(CoupledDEVS):\n",
    "    def __init__(self, name):\n",
    "        CoupledDEVS.__init__(self, name)\n",
    "\n",
    "        self.source = self.addSubModel(Source(name=\"source\",interval=2))\n",
    "\n",
    "\n",
    "        self.cell1 = self.addSubModel(Conveyor(name=\"Conveyor\",length=4))\n",
    "        self.cell2 = self.addSubModel(Station(name=\"Station\",working_time=[4,0,0,0]))\n",
    "        #self.cell2 = self.addSubModel(Block_Cell(name=\"Tasks_Cell\",line_num=2, task_num=3, cycle_time=6))\n",
    "\n",
    "        self.result = self.addSubModel(Drain(name=\"result\"))\n",
    "\n",
    "        self.connectPorts(self.source.outport, self.cell1.inport)\n",
    "        self.connectPorts(self.cell1.outport,self.cell2.inport)\n",
    "        self.connectPorts(self.cell2.outport,self.cell1.response_inport)\n",
    "        self.connectPorts(self.cell2.outport, self.result.inport)\n",
    "\n",
    "\n",
    "    def select(self, imm):\n",
    "        if self.result in imm:\n",
    "            return self.result\n",
    "        elif self.cell2 in imm:\n",
    "            return self.cell2\n",
    "        elif self.cell1 in imm:\n",
    "            return self.cell1\n",
    "        elif self.source in imm:\n",
    "            return self.source\n",
    "\n",
    "#setting\n",
    "sim = Simulator(Test(\"Test\"))\n",
    "\n",
    "sim.setVerbose()\n",
    "sim.setTerminationTime(60)\n",
    "\n",
    "sim.setClassicDEVS()\n",
    "\n",
    "sim.simulate()"
   ]
  },
  {
   "cell_type": "code",
   "execution_count": null,
   "metadata": {},
   "outputs": [
    {
     "name": "stdout",
     "output_type": "stream",
     "text": [
      "Conveyor : set length=4, set speed=1\n"
     ]
    },
    {
     "ename": "TypeError",
     "evalue": "Two_sided_Wingbody_Module.__init__() got an unexpected keyword argument 'task_num'",
     "output_type": "error",
     "traceback": [
      "\u001b[1;31m---------------------------------------------------------------------------\u001b[0m",
      "\u001b[1;31mTypeError\u001b[0m                                 Traceback (most recent call last)",
      "Cell \u001b[1;32mIn[3], line 48\u001b[0m\n\u001b[0;32m     44\u001b[0m             \u001b[38;5;28;01mreturn\u001b[39;00m \u001b[38;5;28mself\u001b[39m\u001b[38;5;241m.\u001b[39mst1\n\u001b[0;32m     47\u001b[0m \u001b[38;5;66;03m#setting\u001b[39;00m\n\u001b[1;32m---> 48\u001b[0m sim \u001b[38;5;241m=\u001b[39m Simulator(\u001b[43mTest\u001b[49m\u001b[43m(\u001b[49m\u001b[38;5;124;43m\"\u001b[39;49m\u001b[38;5;124;43mTest\u001b[39;49m\u001b[38;5;124;43m\"\u001b[39;49m\u001b[43m)\u001b[49m)\n\u001b[0;32m     50\u001b[0m sim\u001b[38;5;241m.\u001b[39msetVerbose()\n\u001b[0;32m     51\u001b[0m sim\u001b[38;5;241m.\u001b[39msetTerminationTime(\u001b[38;5;241m120\u001b[39m)\n",
      "Cell \u001b[1;32mIn[3], line 16\u001b[0m, in \u001b[0;36mTest.__init__\u001b[1;34m(self, name)\u001b[0m\n\u001b[0;32m     14\u001b[0m \u001b[38;5;28mself\u001b[39m\u001b[38;5;241m.\u001b[39mst2 \u001b[38;5;241m=\u001b[39m \u001b[38;5;28mself\u001b[39m\u001b[38;5;241m.\u001b[39maddSubModel(Station(name\u001b[38;5;241m=\u001b[39m\u001b[38;5;124m\"\u001b[39m\u001b[38;5;124mStation2\u001b[39m\u001b[38;5;124m\"\u001b[39m,working_time\u001b[38;5;241m=\u001b[39m[\u001b[38;5;241m1.6\u001b[39m,\u001b[38;5;241m0\u001b[39m,\u001b[38;5;241m0\u001b[39m,\u001b[38;5;241m0\u001b[39m]))\n\u001b[0;32m     15\u001b[0m \u001b[38;5;28mself\u001b[39m\u001b[38;5;241m.\u001b[39mconv \u001b[38;5;241m=\u001b[39m \u001b[38;5;28mself\u001b[39m\u001b[38;5;241m.\u001b[39maddSubModel(Conveyor(name\u001b[38;5;241m=\u001b[39m\u001b[38;5;124m\"\u001b[39m\u001b[38;5;124mConveyor\u001b[39m\u001b[38;5;124m\"\u001b[39m,length\u001b[38;5;241m=\u001b[39m\u001b[38;5;241m4\u001b[39m,speed\u001b[38;5;241m=\u001b[39m\u001b[38;5;241m1\u001b[39m))\n\u001b[1;32m---> 16\u001b[0m \u001b[38;5;28mself\u001b[39m\u001b[38;5;241m.\u001b[39mcell \u001b[38;5;241m=\u001b[39m \u001b[38;5;28mself\u001b[39m\u001b[38;5;241m.\u001b[39maddSubModel(\u001b[43mTwo_sided_Wingbody_Module\u001b[49m\u001b[43m(\u001b[49m\u001b[43mname\u001b[49m\u001b[38;5;241;43m=\u001b[39;49m\u001b[38;5;124;43m\"\u001b[39;49m\u001b[38;5;124;43mTwo_sided_Wingbody_Cell\u001b[39;49m\u001b[38;5;124;43m\"\u001b[39;49m\u001b[43m,\u001b[49m\u001b[43mtask_num\u001b[49m\u001b[38;5;241;43m=\u001b[39;49m\u001b[38;5;241;43m3\u001b[39;49m\u001b[43m,\u001b[49m\u001b[43m \u001b[49m\u001b[43mcycle_time\u001b[49m\u001b[38;5;241;43m=\u001b[39;49m\u001b[38;5;241;43m5.7\u001b[39;49m\u001b[43m)\u001b[49m)\n\u001b[0;32m     18\u001b[0m \u001b[38;5;28mself\u001b[39m\u001b[38;5;241m.\u001b[39mresult \u001b[38;5;241m=\u001b[39m \u001b[38;5;28mself\u001b[39m\u001b[38;5;241m.\u001b[39maddSubModel(Drain(name\u001b[38;5;241m=\u001b[39m\u001b[38;5;124m\"\u001b[39m\u001b[38;5;124mresult\u001b[39m\u001b[38;5;124m\"\u001b[39m))\n\u001b[0;32m     20\u001b[0m \u001b[38;5;28mself\u001b[39m\u001b[38;5;241m.\u001b[39mconnectPorts(\u001b[38;5;28mself\u001b[39m\u001b[38;5;241m.\u001b[39msource\u001b[38;5;241m.\u001b[39moutport, \u001b[38;5;28mself\u001b[39m\u001b[38;5;241m.\u001b[39mst1\u001b[38;5;241m.\u001b[39minport)\n",
      "\u001b[1;31mTypeError\u001b[0m: Two_sided_Wingbody_Module.__init__() got an unexpected keyword argument 'task_num'"
     ]
    }
   ],
   "source": [
    "from pypdevs.DEVS import *\n",
    "from pypdevs.infinity import INFINITY\n",
    "from pypdevs.simulator import Simulator\n",
    "\n",
    "from GenerateCell import *\n",
    "\n",
    "class Test(CoupledDEVS):\n",
    "    def __init__(self, name):\n",
    "        CoupledDEVS.__init__(self, name)\n",
    "\n",
    "        self.source = self.addSubModel(Source(name=\"source\",interval=1))\n",
    "\n",
    "        self.st1 = self.addSubModel(Station(name=\"Station1\",working_time=[1.2,0,0,0]))\n",
    "        self.st2 = self.addSubModel(Station(name=\"Station2\",working_time=[1.6,0,0,0]))\n",
    "        self.conv = self.addSubModel(Conveyor(name=\"Conveyor\",length=4,speed=1))\n",
    "        self.cell = self.addSubModel(Two_sided_Wingbody_Cell(name=\"Two_sided_Wingbody_Cell\",line_num=3, task_num=3, cycle_time=5.7))\n",
    "\n",
    "        self.result = self.addSubModel(Drain(name=\"result\"))\n",
    "\n",
    "        self.connectPorts(self.source.outport, self.st1.inport)\n",
    "        self.connectPorts(self.st1.outport, self.st2.inport)\n",
    "        self.connectPorts(self.st2.outport, self.conv.inport)\n",
    "        self.connectPorts(self.conv.outport, self.cell.inport)\n",
    "        self.connectPorts(self.cell.outport, self.result.inport)\n",
    "\n",
    "\n",
    "        self.connectPorts(self.st2.outport, self.st1.response_inport)\n",
    "        self.connectPorts(self.conv.outport, self.st2.response_inport)\n",
    "        self.connectPorts(self.cell.outport, self.conv.response_inport)\n",
    "\n",
    "        self.connectPorts(self.result.outport, self.cell.response_inport)\n",
    "\n",
    "\n",
    "    def select(self, imm):\n",
    "        if self.result in imm:\n",
    "            return self.result\n",
    "        elif self.cell in imm:\n",
    "            return self.cell\n",
    "        elif self.conv in imm:\n",
    "            return self.conv\n",
    "        elif self.st2 in imm:\n",
    "            return self.st2\n",
    "        elif self.st1 in imm:\n",
    "            return self.st1\n",
    "        \n",
    "\n",
    "#setting\n",
    "sim = Simulator(Test(\"Test\"))\n",
    "\n",
    "sim.setVerbose()\n",
    "sim.setTerminationTime(120)\n",
    "\n",
    "sim.setClassicDEVS()\n",
    "\n",
    "sim.simulate()"
   ]
  }
 ],
 "metadata": {
  "kernelspec": {
   "display_name": "DEVS",
   "language": "python",
   "name": "python3"
  },
  "language_info": {
   "codemirror_mode": {
    "name": "ipython",
    "version": 3
   },
   "file_extension": ".py",
   "mimetype": "text/x-python",
   "name": "python",
   "nbconvert_exporter": "python",
   "pygments_lexer": "ipython3",
   "version": "3.11.9"
  }
 },
 "nbformat": 4,
 "nbformat_minor": 2
}
