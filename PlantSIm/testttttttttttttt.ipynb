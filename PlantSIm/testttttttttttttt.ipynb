{
 "cells": [
  {
   "cell_type": "code",
   "execution_count": null,
   "metadata": {},
   "outputs": [
    {
     "ename": "",
     "evalue": "",
     "output_type": "error",
     "traceback": [
      "\u001b[1;31mRunning cells with 'DEVS_3_11 (Python 3.11.9)' requires the ipykernel package.\n",
      "\u001b[1;31mRun the following command to install 'ipykernel' into the Python environment. \n",
      "\u001b[1;31mCommand: 'conda install -p d:\\anaconda\\envs\\DEVS_3_11 ipykernel --update-deps --force-reinstall'"
     ]
    }
   ],
   "source": [
    "import pandas as pd\n",
    "#df = pd.read_excel('C:/Users/kms_main/OneDrive/바탕 화면/DEVS_git/GBP_model-pypdevs-lib-/result2.xlsx')\n",
    "df = pd.read_excel('../Layout_Data_GA.xlsx')\n",
    "\n",
    "print(df)\n",
    "\n",
    "from GenerateLine import *\n",
    "\n",
    "dp = Data_preprocessing()\n",
    "\n",
    "n = dp.getName(df)\n",
    "t = dp.getType(df) \n",
    "\n",
    "print(n)\n",
    "print(t)"
   ]
  }
 ],
 "metadata": {
  "kernelspec": {
   "display_name": "Python 3",
   "language": "python",
   "name": "python3"
  },
  "language_info": {
   "codemirror_mode": {
    "name": "ipython",
    "version": 3
   },
   "file_extension": ".py",
   "mimetype": "text/x-python",
   "name": "python",
   "nbconvert_exporter": "python",
   "pygments_lexer": "ipython3",
   "version": "3.11.9"
  }
 },
 "nbformat": 4,
 "nbformat_minor": 2
}
