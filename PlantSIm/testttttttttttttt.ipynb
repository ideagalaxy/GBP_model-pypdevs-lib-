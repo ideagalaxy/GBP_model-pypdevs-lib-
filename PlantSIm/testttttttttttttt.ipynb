{
 "cells": [
  {
   "cell_type": "code",
   "execution_count": 1,
   "metadata": {},
   "outputs": [
    {
     "name": "stdout",
     "output_type": "stream",
     "text": [
      "            Type  size_x  size_y  input_x  input_y  output_x  output_y  \\\n",
      "0        Station       1       1        1        1         1         1   \n",
      "1        Station       1       1        1        1         1         1   \n",
      "2       Conveyor       1       1        1        1         1         1   \n",
      "3       Conveyor       1       1        1        1         1         1   \n",
      "4  Parallel Cell       5       5        1        3         5         3   \n",
      "5       Conveyor       1       1        1        1         1         1   \n",
      "6     Block Cell       3       4        1        1         3         4   \n",
      "7        Station       1       1        1        1         1         1   \n",
      "\n",
      "  line_num task_num  cycletime  variation  \n",
      "0        -        -          3        0.5  \n",
      "1        -        -          3        0.5  \n",
      "2        -        -          1        1.0  \n",
      "3        -        -          1        1.0  \n",
      "4        2        3          4        1.0  \n",
      "5        -        -          1        1.0  \n",
      "6        2        2          2        0.0  \n",
      "7        -        -          3        0.5  \n"
     ]
    }
   ],
   "source": [
    "import pandas as pd\n",
    "#df = pd.read_excel('C:/Users/kms_main/OneDrive/바탕 화면/DEVS_git/GBP_model-pypdevs-lib-/result2.xlsx')\n",
    "df = pd.read_excel('../Layout_Data_GA.xlsx')\n",
    "\n",
    "print(df)"
   ]
  },
  {
   "cell_type": "code",
   "execution_count": 3,
   "metadata": {},
   "outputs": [
    {
     "name": "stdout",
     "output_type": "stream",
     "text": [
      "['Station_1', 'Station_2', 'Conveyor', 'Conveyor', 'Cell_1', 'Conveyor', 'Cell_2', 'Station_3']\n",
      "['Station', 'Station', 'Conveyor', 'Conveyor', 'Parallel Cell', 'Conveyor', 'Block Cell', 'Station']\n"
     ]
    }
   ],
   "source": [
    "from GenerateLine import *\n",
    "\n",
    "dp = Data_preprocessing()\n",
    "\n",
    "n = dp.getName(df)\n",
    "t = dp.getType(df) \n",
    "\n",
    "print(n)\n",
    "print(t)"
   ]
  }
 ],
 "metadata": {
  "kernelspec": {
   "display_name": "DEVS",
   "language": "python",
   "name": "python3"
  },
  "language_info": {
   "codemirror_mode": {
    "name": "ipython",
    "version": 3
   },
   "file_extension": ".py",
   "mimetype": "text/x-python",
   "name": "python",
   "nbconvert_exporter": "python",
   "pygments_lexer": "ipython3",
   "version": "3.11.9"
  }
 },
 "nbformat": 4,
 "nbformat_minor": 2
}
